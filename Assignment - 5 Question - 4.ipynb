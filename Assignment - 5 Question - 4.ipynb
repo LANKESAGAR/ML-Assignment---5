{
 "cells": [
  {
   "cell_type": "markdown",
   "id": "8b0de204",
   "metadata": {},
   "source": [
    "# Difference between PCA and LDA"
   ]
  },
  {
   "cell_type": "markdown",
   "id": "8a40d08b",
   "metadata": {},
   "source": [
    "# PCA"
   ]
  },
  {
   "cell_type": "code",
   "execution_count": 8,
   "id": "356fdfab",
   "metadata": {},
   "outputs": [
    {
     "data": {
      "text/plain": [
       "'PCA is a statistical tool often used for dimensionality reduction. It helps to convert higher dimensional data to lower dimensions before applying any ML model. It is an unsupervised learning Algorithm. Principal Component Analysis (PCA) applied to this data identifies the combination of attributes (principal components, or directions in the feature space) that account for the most variance in the data. Here we plot the different samples on the 2 first principal components.'"
      ]
     },
     "execution_count": 8,
     "metadata": {},
     "output_type": "execute_result"
    }
   ],
   "source": [
    "\"\"\"PCA is a statistical tool often used for dimensionality reduction. It helps to convert higher dimensional data to lower dimensions before applying any ML model. It is an unsupervised learning Algorithm. Principal Component Analysis (PCA) applied to this data identifies the combination of attributes (principal components, or directions in the feature space) that account for the most variance in the data. Here we plot the different samples on the 2 first principal components.\"\"\""
   ]
  },
  {
   "cell_type": "markdown",
   "id": "8b465677",
   "metadata": {},
   "source": [
    "# LDA"
   ]
  },
  {
   "cell_type": "code",
   "execution_count": 9,
   "id": "4228c223",
   "metadata": {},
   "outputs": [
    {
     "data": {
      "text/plain": [
       "\"LDA is a supervised dimensionality reduction technique. It makes assumptions on data. It is the generalization of Fischer’s Linear Discriminant. The LDA doesn't find the principal components. Instead, it increases the inter-class distance and decreases the intraclass distance. Linear Discriminant Analysis (LDA) tries to identify attributes that account for the most variance between classes. In particular, LDA, in contrast to PCA, is a supervised method, using known class labels.\""
      ]
     },
     "execution_count": 9,
     "metadata": {},
     "output_type": "execute_result"
    }
   ],
   "source": [
    "\"\"\"LDA is a supervised dimensionality reduction technique. It makes assumptions on data. It is the generalization of Fischer’s Linear Discriminant. The LDA doesn't find the principal components. Instead, it increases the inter-class distance and decreases the intraclass distance. Linear Discriminant Analysis (LDA) tries to identify attributes that account for the most variance between classes. In particular, LDA, in contrast to PCA, is a supervised method, using known class labels.\"\"\""
   ]
  },
  {
   "cell_type": "code",
   "execution_count": null,
   "id": "68004433",
   "metadata": {},
   "outputs": [],
   "source": []
  }
 ],
 "metadata": {
  "kernelspec": {
   "display_name": "Python 3",
   "language": "python",
   "name": "python3"
  },
  "language_info": {
   "codemirror_mode": {
    "name": "ipython",
    "version": 3
   },
   "file_extension": ".py",
   "mimetype": "text/x-python",
   "name": "python",
   "nbconvert_exporter": "python",
   "pygments_lexer": "ipython3",
   "version": "3.8.8"
  }
 },
 "nbformat": 4,
 "nbformat_minor": 5
}
